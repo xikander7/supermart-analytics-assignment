{
 "cells": [
  {
   "cell_type": "markdown",
   "id": "61f12bfb",
   "metadata": {},
   "source": [
    "# 01 — Prepare & Explore\n",
    "Minimal, robust loader + a couple of quick views."
   ]
  },
  {
   "cell_type": "code",
   "execution_count": null,
   "id": "fb49041e",
   "metadata": {},
   "outputs": [],
   "source": [
    "from pathlib import Path\n",
    "import pandas as pd\n",
    "\n",
    "DATA = Path(\"../data/cleaned_master.csv\")\n",
    "assert DATA.exists(), \"Put your cleaned file at data/cleaned_master.csv\"\n",
    "\n",
    "df = pd.read_csv(DATA, low_memory=False)\n",
    "\n",
    "# Try to build a usable datetime\n",
    "candidates = [\"transaction_time\",\"time_of_transactions\",\"transaction_date\",\"date\",\"datetime\",\"timestamp\",\"time\"]\n",
    "src = next((c for c in candidates if c in df.columns), None)\n",
    "if src:\n",
    "    df[\"transaction_time\"] = pd.to_datetime(df[src], errors=\"coerce\")\n",
    "\n",
    "print(\"Rows:\", len(df), \"| Columns:\", len(df.columns))\n",
    "df.head(5)"
   ]
  },
  {
   "cell_type": "markdown",
   "id": "5d6f86d9",
   "metadata": {},
   "source": [
    "### Using src helpers"
   ]
  },
  {
   "cell_type": "code",
   "execution_count": null,
   "id": "e94246b8",
   "metadata": {},
   "outputs": [],
   "source": [
    "from src.io import load_cleaned_master, detect_datetime\n",
    "df = load_cleaned_master()\n",
    "df = detect_datetime(df)\n",
    "df.head(3)"
   ]
  }
 ],
 "metadata": {},
 "nbformat": 4,
 "nbformat_minor": 5
}
