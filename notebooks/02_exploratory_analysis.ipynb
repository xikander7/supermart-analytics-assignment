{
 "cells": [
  {
   "cell_type": "code",
   "execution_count": 19,
   "id": "b721e21b",
   "metadata": {},
   "outputs": [
    {
     "name": "stderr",
     "output_type": "stream",
     "text": [
      "C:\\Users\\sik2k\\AppData\\Local\\Temp\\ipykernel_18224\\2225226276.py:11: UserWarning: The argument 'infer_datetime_format' is deprecated and will be removed in a future version. A strict version of it is now the default, see https://pandas.pydata.org/pdeps/0004-consistent-to-datetime-parsing.html. You can safely remove this argument.\n",
      "  s = pd.to_datetime(df[\"transaction_time\"], errors=\"coerce\", infer_datetime_format=True)\n",
      "C:\\Users\\sik2k\\AppData\\Local\\Temp\\ipykernel_18224\\2225226276.py:57: UserWarning: The argument 'infer_datetime_format' is deprecated and will be removed in a future version. A strict version of it is now the default, see https://pandas.pydata.org/pdeps/0004-consistent-to-datetime-parsing.html. You can safely remove this argument.\n",
      "  s2 = pd.to_datetime(df[c], errors=\"coerce\", infer_datetime_format=True)\n"
     ]
    },
    {
     "name": "stdout",
     "output_type": "stream",
     "text": [
      "Detected suspicious 1970-ish dates; rebuilding from other columns…\n",
      "⚠ Could not rebuild a trustworthy datetime; skipping time-based charts.\n",
      "Datetime coverage: 1.0 | span days: 0.0\n"
     ]
    }
   ],
   "source": [
    "import pandas as pd\n",
    "from pandas.api.types import is_datetime64_any_dtype as is_dt\n",
    "\n",
    "# If df is not already loaded, uncomment:\n",
    "# from pathlib import Path\n",
    "# df = pd.read_csv(Path(\"../data\") / \"cleaned_master.csv\", low_memory=False)\n",
    "\n",
    "def rebuild_datetime(df):\n",
    "    # 0) Start from whatever we have\n",
    "    if \"transaction_time\" in df.columns:\n",
    "        s = pd.to_datetime(df[\"transaction_time\"], errors=\"coerce\", infer_datetime_format=True)\n",
    "    else:\n",
    "        s = pd.Series(pd.NaT, index=df.index)\n",
    "\n",
    "    # 1) If the parsed dates look suspicious (all ~1970 or very few distinct days), try better sources\n",
    "    suspicious = (\n",
    "        is_dt(s)\n",
    "        and s.notna().any()\n",
    "        and (\n",
    "            (s.dt.year.min() <= 1971 and s.dt.year.max() <= 1971)  # stuck near 1970\n",
    "            or (s.dt.normalize().nunique() <= 2)                   # not enough distinct dates\n",
    "        )\n",
    "    )\n",
    "\n",
    "    if suspicious:\n",
    "        print(\"Detected suspicious 1970-ish dates; rebuilding from other columns…\")\n",
    "\n",
    "        built = False\n",
    "\n",
    "        # A) ISO year+week -> Monday\n",
    "        if {\"year\",\"week\"}.issubset(df.columns) and not built:\n",
    "            y = pd.to_numeric(df[\"year\"], errors=\"coerce\").astype(\"Int64\").astype(str)\n",
    "            w = pd.to_numeric(df[\"week\"], errors=\"coerce\").astype(\"Int64\").astype(str).str.zfill(2)\n",
    "            s2 = pd.to_datetime(y + w + \"1\", format=\"%G%V%u\", errors=\"coerce\")\n",
    "            if s2.notna().mean() > 0.60:\n",
    "                s = s2; built = True\n",
    "                print(\"✓ Rebuilt from year+week\")\n",
    "\n",
    "        # B) year + month + day triplet\n",
    "        if {\"year\",\"month\",\"day\"}.issubset(df.columns) and not built:\n",
    "            s2 = pd.to_datetime(\n",
    "                dict(\n",
    "                    year=pd.to_numeric(df[\"year\"], errors=\"coerce\"),\n",
    "                    month=pd.to_numeric(df[\"month\"], errors=\"coerce\"),\n",
    "                    day=pd.to_numeric(df[\"day\"], errors=\"coerce\"),\n",
    "                ),\n",
    "                errors=\"coerce\",\n",
    "            )\n",
    "            if s2.notna().mean() > 0.60:\n",
    "                s = s2; built = True\n",
    "                print(\"✓ Rebuilt from year/month/day\")\n",
    "\n",
    "        # C) Try any other date-like columns (string or epoch seconds/ms/us/ns)\n",
    "        if not built:\n",
    "            for c in [c for c in df.columns if c not in {\"transaction_time\"} and any(k in c.lower() for k in [\"date\",\"time\",\"timestamp\"])]:\n",
    "                # string parse\n",
    "                s2 = pd.to_datetime(df[c], errors=\"coerce\", infer_datetime_format=True)\n",
    "                if s2.notna().mean() > 0.60 and s2.dt.year.between(1990,2035).mean() > 0.5:\n",
    "                    s = s2; built = True; print(f\"✓ Rebuilt from {c} (string)\"); break\n",
    "                # epoch variants\n",
    "                if pd.api.types.is_numeric_dtype(df[c]) and not built:\n",
    "                    for unit in [\"s\",\"ms\",\"us\",\"ns\"]:\n",
    "                        s2 = pd.to_datetime(df[c], errors=\"coerce\", unit=unit)\n",
    "                        if s2.notna().mean() > 0.60 and s2.dt.year.between(1990,2035).mean() > 0.5:\n",
    "                            s = s2; built = True; print(f\"✓ Rebuilt from {c} as epoch ({unit})\"); break\n",
    "                if built: break\n",
    "\n",
    "        if not built:\n",
    "            print(\"⚠ Could not rebuild a trustworthy datetime; skipping time-based charts.\")\n",
    "\n",
    "    # 2) Commit the good datetime if we have one\n",
    "    if is_dt(s) and s.notna().any():\n",
    "        df[\"transaction_time\"] = s\n",
    "        df[\"month\"]     = s.dt.to_period(\"M\")\n",
    "        df[\"year_week\"] = s.dt.strftime(\"%G-%V\")\n",
    "        print(\n",
    "            \"Datetime coverage:\",\n",
    "            float(s.notna().mean()),\n",
    "            \"| span days:\",\n",
    "            float((s.max() - s.min()).days) if s.notna().any() else 0,\n",
    "        )\n",
    "    return df\n",
    "\n",
    "df = rebuild_datetime(df)\n"
   ]
  },
  {
   "cell_type": "code",
   "execution_count": 14,
   "id": "078baa22",
   "metadata": {},
   "outputs": [],
   "source": [
    "if \"month\" in df.columns and df[\"month\"].nunique() >= 2 and \"amount\" in df.columns:\n",
    "    m = df.dropna(subset=[\"month\"]).groupby(\"month\", as_index=False)[\"amount\"].sum().sort_values(\"month\")\n",
    "    plt.figure(figsize=(10,4)); plt.plot(m[\"month\"].astype(str), m[\"amount\"])\n",
    "    plt.title(\"Monthly Sales\"); plt.xlabel(\"Month\"); plt.ylabel(\"Sales Amount\")\n",
    "    plt.xticks(rotation=60); plt.tight_layout()\n",
    "    plt.savefig(REPORT / \"fig_monthly_sales.png\", dpi=150)\n",
    "else:\n",
    "    if \"year_week\" in df.columns and df[\"year_week\"].nunique() >= 5 and \"amount\" in df.columns:\n",
    "        w = df.groupby(\"year_week\", as_index=False)[\"amount\"].sum().sort_values(\"year_week\").tail(26)\n",
    "        plt.figure(figsize=(10,4)); plt.plot(w[\"year_week\"], w[\"amount\"])\n",
    "        plt.title(\"Weekly Sales (last ~6 months)\"); plt.xlabel(\"ISO Year-Week\"); plt.ylabel(\"Sales Amount\")\n",
    "        plt.xticks(rotation=60); plt.tight_layout()\n",
    "        plt.savefig(REPORT / \"fig_weekly_sales.png\", dpi=150)\n"
   ]
  },
  {
   "cell_type": "code",
   "execution_count": 15,
   "id": "9f0e4ed6",
   "metadata": {},
   "outputs": [
    {
     "data": {
      "image/png": "[encoded data removed]",
      "text/plain": [
       "<Figure size 800x400 with 1 Axes>"
      ]
     },
     "metadata": {},
     "output_type": "display_data"
    }
   ],
   "source": [
    "if {\"amount\"}.issubset(df.columns) and (\"province_label\" in df.columns or \"province\" in df.columns):\n",
    "    col = \"province_label\" if \"province_label\" in df.columns else \"province\"\n",
    "    prov = df.groupby(col, as_index=False)[\"amount\"].sum().sort_values(\"amount\", ascending=False).head(10)\n",
    "    plt.figure(figsize=(8,4)); plt.bar(prov[col].astype(str), prov[\"amount\"])\n",
    "    plt.xticks(rotation=45, ha=\"right\"); plt.title(\"Top provinces by revenue\")\n",
    "    plt.tight_layout()\n",
    "    plt.savefig(REPORT / \"fig_top_provinces.png\", dpi=150)\n",
    "    prov.to_csv(REPORT / \"table_revenue_by_province.csv\", index=False)\n"
   ]
  },
  {
   "cell_type": "code",
   "execution_count": 16,
   "id": "b6ae18b3",
   "metadata": {},
   "outputs": [],
   "source": [
    "if {\"supermarket_no\",\"amount\"}.issubset(df.columns):\n",
    "    stores = df.groupby(\"supermarket_no\", as_index=False)[\"amount\"].sum().sort_values(\"amount\", ascending=False).head(10)\n",
    "    plt.figure(figsize=(8,4)); plt.bar(stores[\"supermarket_no\"].astype(str), stores[\"amount\"])\n",
    "    plt.xticks(rotation=45, ha=\"right\"); plt.title(\"Top stores by revenue\")\n",
    "    plt.tight_layout()\n",
    "    plt.savefig(REPORT / \"fig_top_stores.png\", dpi=150)\n",
    "    stores.to_csv(REPORT / \"table_top_stores.csv\", index=False)\n"
   ]
  },
  {
   "cell_type": "code",
   "execution_count": 17,
   "id": "19a0e841",
   "metadata": {},
   "outputs": [
    {
     "name": "stdout",
     "output_type": "stream",
     "text": [
      "Wrote: C:\\Users\\sik2k\\Git_Repo\\supermart-analytics-assignment\\report\\insights_to_paste.md\n"
     ]
    }
   ],
   "source": [
    "lines = []\n",
    "# promo flag\n",
    "df[\"promo_flag\"] = 0\n",
    "for c in [\"feature\",\"display\"]:\n",
    "    if c in df.columns:\n",
    "        df[c] = df[c].astype(str).str.strip().replace({\"nan\":\"0\",\"None\":\"0\"})\n",
    "        df.loc[df[c].ne(\"0\"), \"promo_flag\"] = 1\n",
    "\n",
    "uplift = np.nan\n",
    "if {\"amount\",\"promo_flag\"}.issubset(df.columns):\n",
    "    g = df.groupby(\"promo_flag\")[\"amount\"].mean()\n",
    "    base, promo = g.get(0, np.nan), g.get(1, np.nan)\n",
    "    if pd.notna(base) and base != 0 and pd.notna(promo):\n",
    "        uplift = (promo - base) / base * 100\n",
    "lines.append(f\"Promotion uplift (mean amount): {'N/A' if pd.isna(uplift) else f'{uplift:.2f}%'}\")\n",
    "\n",
    "if \"province_label\" in df.columns and \"amount\" in df.columns:\n",
    "    p5 = df.groupby(\"province_label\", as_index=False)[\"amount\"].sum().sort_values(\"amount\", ascending=False).head(5)\n",
    "    lines.append(\"\\nTop provinces:\");  [lines.append(f\"- {r.province_label}: {r.amount:.0f}\") for r in p5.itertuples()]\n",
    "\n",
    "if {\"supermarket_no\",\"amount\"}.issubset(df.columns):\n",
    "    s5 = df.groupby(\"supermarket_no\", as_index=False)[\"amount\"].sum().sort_values(\"amount\", ascending=False).head(5)\n",
    "    lines.append(\"\\nTop stores:\");     [lines.append(f\"- {r.supermarket_no}: {r.amount:.0f}\") for r in s5.itertuples()]\n",
    "\n",
    "if {\"code\",\"amount\"}.issubset(df.columns):\n",
    "    i5 = df.groupby(\"code\", as_index=False)[\"amount\"].sum().sort_values(\"amount\", ascending=False).head(5)\n",
    "    lines.append(\"\\nTop items:\");      [lines.append(f\"- {r.code}: {r.amount:.0f}\") for r in i5.itertuples()]\n",
    "\n",
    "(REPORT / \"insights_to_paste.md\").write_text(\"\\n\".join(lines), encoding=\"utf-8\")\n",
    "print(\"Wrote:\", (REPORT / 'insights_to_paste.md').resolve())\n"
   ]
  },
  {
   "cell_type": "code",
   "execution_count": 20,
   "id": "25f248fb",
   "metadata": {},
   "outputs": [
    {
     "name": "stdout",
     "output_type": "stream",
     "text": [
      "month nunique: 1\n",
      "year_week nunique: 1\n",
      "min: 1970-01-01 00:00:00 max: 1970-01-01 00:00:00.000002359\n"
     ]
    }
   ],
   "source": [
    "print(\"month nunique:\", df[\"month\"].nunique() if \"month\" in df.columns else \"no month\")\n",
    "print(\"year_week nunique:\", df[\"year_week\"].nunique() if \"year_week\" in df.columns else \"no year_week\")\n",
    "if \"transaction_time\" in df.columns:\n",
    "    print(\"min:\", df[\"transaction_time\"].min(), \"max:\", df[\"transaction_time\"].max())\n"
   ]
  }
 ],
 "metadata": {
  "kernelspec": {
   "display_name": ".venv",
   "language": "python",
   "name": "python3"
  },
  "language_info": {
   "name": "python",
   "version": "3.11.9"
  }
 },
 "nbformat": 4,
 "nbformat_minor": 5
}
