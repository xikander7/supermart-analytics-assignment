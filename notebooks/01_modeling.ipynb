{
  "cells": [
    {
      "cell_type": "markdown",
      "metadata": {},
      "source": [
        "# 01 – Modeling & Evaluation\n",
        "Use the prebuilt scripts or run the rough baseline here.\n"
      ]
    },
    {
      "cell_type": "code",
      "metadata": {},
      "source": [
        "import pandas as pd, joblib\n",
        "from src.metrics import regression_report, pretty_print_report\n",
        "from sklearn.model_selection import train_test_split\n",
        "from sklearn.linear_model import LinearRegression\n",
        "from sklearn.compose import ColumnTransformer\n",
        "from sklearn.preprocessing import OneHotEncoder, StandardScaler\n",
        "from sklearn.pipeline import Pipeline\n",
        "\n",
        "df = pd.read_parquet('data/processed/features.parquet')\n",
        "target = 'amount'\n",
        "numeric = [c for c in ['units','price','size','year','month','weekofyear','dow','hour'] if c in df.columns]\n",
        "categoricals = [c for c in ['type','brand','province','feature','display','supermarket_no','post_code'] if c in df.columns]\n",
        "df = df.dropna(subset=[target])\n",
        "X = df[numeric + categoricals].copy(); y = df[target].values\n",
        "pre = ColumnTransformer([\n",
        "    ('num', StandardScaler(with_mean=False), numeric),\n",
        "    ('cat', OneHotEncoder(handle_unknown='ignore', sparse_output=True), categoricals),\n",
        "])\n",
        "model = Pipeline([('pre', pre), ('lr', LinearRegression())])\n",
        "Xtr, Xte, ytr, yte = train_test_split(X, y, test_size=0.2, random_state=42)\n",
        "model.fit(Xtr, ytr)\n",
        "pred = model.predict(Xte)\n",
        "rep = regression_report(yte, pred)\n",
        "pretty_print_report('Linear (nb)', rep)\n"
      ],
      "execution_count": null,
      "outputs": []
    }
  ],
  "metadata": {
    "kernelspec": {
      "display_name": "Python 3",
      "language": "python",
      "name": "python3"
    },
    "language_info": {
      "name": "python",
      "version": ""
    }
  },
  "nbformat": 4,
  "nbformat_minor": 5
}