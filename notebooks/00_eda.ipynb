{
  "cells": [
    {
      "cell_type": "markdown",
      "metadata": {},
      "source": [
        "# 00 – EDA & Data Audit\n",
        "\n",
        "Steps:\n",
        "1. Load raw CSVs from `data/raw/`\n",
        "2. Data dictionary & schema checks\n",
        "3. Nulls/outliers/time windows\n",
        "4. Save cleaned outputs via `scripts/data_cleaning.py` (or replicate here)\n"
      ]
    },
    {
      "cell_type": "code",
      "execution_count": null,
      "metadata": {},
      "outputs": [],
      "source": [
        "import pandas as pd\n",
        "from pathlib import Path\n",
        "RAW = Path('data/raw')\n",
        "for name in ['Items.csv','Sales.csv','Promotion.csv','Supermarkets.csv']:\n",
        "    p = RAW / name\n",
        "    print(name, '| exists:', p.exists(), '| size:', p.stat().st_size if p.exists() else 0)\n"
      ]
    }
  ],
  "metadata": {
    "kernelspec": {
      "display_name": "Python 3",
      "language": "python",
      "name": "python3"
    },
    "language_info": {
      "name": "python",
      "version": ""
    }
  },
  "nbformat": 4,
  "nbformat_minor": 5
}